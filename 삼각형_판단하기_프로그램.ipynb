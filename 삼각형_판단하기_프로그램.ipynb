{
  "nbformat": 4,
  "nbformat_minor": 0,
  "metadata": {
    "colab": {
      "provenance": [],
      "authorship_tag": "ABX9TyNE3qC+89k8M0KimYgIXeT/",
      "include_colab_link": true
    },
    "kernelspec": {
      "name": "python3",
      "display_name": "Python 3"
    },
    "language_info": {
      "name": "python"
    }
  },
  "cells": [
    {
      "cell_type": "markdown",
      "metadata": {
        "id": "view-in-github",
        "colab_type": "text"
      },
      "source": [
        "<a href=\"https://colab.research.google.com/github/d0gn/oss/blob/main/%EC%82%BC%EA%B0%81%ED%98%95_%ED%8C%90%EB%8B%A8%ED%95%98%EA%B8%B0_%ED%94%84%EB%A1%9C%EA%B7%B8%EB%9E%A8.ipynb\" target=\"_parent\"><img src=\"https://colab.research.google.com/assets/colab-badge.svg\" alt=\"Open In Colab\"/></a>"
      ]
    },
    {
      "cell_type": "markdown",
      "source": [
        "# 삼각형 판단하기\n",
        "본 수업에서는 **삼각형의 세변의 길이를** 받아서 어떠한 삼격형인지를 알려주는 프로그램을 개발합니다.\n",
        "제안하는 프로그램은 사용자로부터 3개의 변의 길이를 받아 판단하는 프로그램입니다.\n",
        "\n",
        "$a = b = c$ 정삼각형\n"
      ],
      "metadata": {
        "id": "x-Sg8XhZyCtV"
      }
    },
    {
      "cell_type": "markdown",
      "source": [
        "## 정삼각형\n",
        "$a = b = c$ 일때 정삼각형"
      ],
      "metadata": {
        "id": "VOIb7siqyxNk"
      }
    },
    {
      "cell_type": "code",
      "source": [
        "# @title Example form fields\n",
        "# @markdown Forms support many types of fields.\n",
        "\n",
        "a = 102  # @param {type: \"number\"}\n",
        "b = 102  # @param {type: \"number\"}\n",
        "c = 102  # @param {type: \"number\"}\n",
        "date = '2010-11-05'  # @param {type: \"date\"}\n",
        "pick_me = \"monday\"  # @param ['monday', 'tuesday', 'wednesday', 'thursday']\n",
        "select_or_input = \"apples\" # @param [\"apples\", \"bananas\", \"oranges\"] {allow-input: true}\n",
        "# @markdown ---\n"
      ],
      "metadata": {
        "id": "uqXg1I1qzi0r"
      },
      "execution_count": 6,
      "outputs": []
    },
    {
      "cell_type": "code",
      "execution_count": 7,
      "metadata": {
        "colab": {
          "base_uri": "https://localhost:8080/"
        },
        "id": "2PMX0gYdx_Qb",
        "outputId": "6c783b09-8503-463d-b8ab-03e26ba6a2b3"
      },
      "outputs": [
        {
          "output_type": "stream",
          "name": "stdout",
          "text": [
            "정삼각형\n"
          ]
        }
      ],
      "source": [
        "\n",
        "\n",
        "if a == b == c:\n",
        "    print(\"정삼각형\")\n",
        "else:\n",
        "    print(\"정삼각형 아님\")"
      ]
    },
    {
      "cell_type": "code",
      "source": [],
      "metadata": {
        "id": "DlouApNAz_ch"
      },
      "execution_count": null,
      "outputs": []
    }
  ]
}